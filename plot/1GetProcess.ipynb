{
 "cells": [
  {
   "cell_type": "code",
   "execution_count": 1,
   "metadata": {
    "dotnet_interactive": {
     "language": "pwsh"
    },
    "polyglot_notebook": {
     "kernelName": "pwsh"
    },
    "tags": [
     "hide_input",
     "remove-cell"
    ]
   },
   "outputs": [
    {
     "data": {
      "text/plain": []
     },
     "metadata": {},
     "output_type": "display_data"
    }
   ],
   "source": [
    ". .\\ScottPlotHelper.ps1"
   ]
  },
  {
   "cell_type": "code",
   "execution_count": null,
   "metadata": {
    "dotnet_interactive": {
     "language": "pwsh"
    },
    "polyglot_notebook": {
     "kernelName": "pwsh"
    }
   },
   "outputs": [],
   "source": [
    "$plt  = [ScottPlot.Plot]::new(500, 200)\n",
    "$data = [int[]]((Get-Process|Sort WS -Descending -Top 5).WS| % {$_/1MB})\n",
    "[Void] $plt.AddBar($data)\n",
    "Show-ScottPlotInNotebook $plt \"$bar_quickstart.png\""
   ]
  },
  {
   "cell_type": "markdown",
   "metadata": {},
   "source": [
    "<svg width=\"1046px\" height=\"400px\" xmlns=\"http://www.w3.org/2000/svg\">\n",
    "    <rect x=\"21\" y=\"0.0\" width=\"167.36\" height=\"400.0\" fill=\"blue\"/>\n",
    "    <rect x=\"230.12\" y=\"200.0\" width=\"167.36\" height=\"200.0\" fill=\"blue\"/>\n",
    "    <rect x=\"439.32\" y=\"200.0\" width=\"167.36\" height=\"200.0\" fill=\"blue\"/>\n",
    "    <rect x=\"648.52\" y=\"200.0\" width=\"167.36\" height=\"200.0\" fill=\"blue\"/>\n",
    "    <rect x=\"858\" y=\"200.0\" width=\"167.36\" height=\"200.0\" fill=\"blue\"/>\n",
    "</svg>"
   ]
  }
 ],
 "metadata": {
  "kernelspec": {
   "display_name": ".NET (PowerShell)",
   "language": "PowerShell",
   "name": ".net-pwsh"
  },
  "language_info": {
   "name": "polyglot-notebook"
  },
  "polyglot_notebook": {
   "kernelInfo": {
    "defaultKernelName": "pwsh",
    "items": [
     {
      "aliases": [],
      "languageName": "pwsh",
      "name": "pwsh"
     }
    ]
   }
  }
 },
 "nbformat": 4,
 "nbformat_minor": 2
}
