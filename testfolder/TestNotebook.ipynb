{
    "metadata": {
        "kernelspec": {
            "name": "powershell",
            "display_name": "PowerShell"
        },
        "language_info": {
            "name": "powershell",
            "codemirror_mode": "shell",
            "mimetype": "text/x-sh",
            "file_extension": ".ps1"
        }
    },
    "nbformat_minor": 2,
    "nbformat": 4,
    "cells": [
        {
            "cell_type": "code",
            "source": [
                "'Hello World'"
            ],
            "metadata": {
                "azdata_cell_guid": "d9cb8237-4a8e-4587-b06d-cbf276a46417",
                "tags": [
                    "hide_input"
                ]
            },
            "outputs": [
                {
                    "name": "stdout",
                    "text": "Hello World\n",
                    "output_type": "stream"
                }
            ],
            "execution_count": 1
        },
        {
            "cell_type": "markdown",
            "source": [
                "# This is test text\r\n",
                "\r\n",
                "<img style=\"float: right;\" src=\"https://ayn.blob.core.windows.net/github/test2.gif\" width=\"400\" height=\"200\">"
            ],
            "metadata": {
                "azdata_cell_guid": "4d0429bf-078c-43fe-98b1-e0b4fba24139"
            }
        }
    ]
}