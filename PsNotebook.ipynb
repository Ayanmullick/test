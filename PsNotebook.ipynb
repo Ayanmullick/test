{
 "cells": [
  {
   "cell_type": "code",
   "execution_count": 1,
   "metadata": {
    "dotnet_interactive": {
     "language": "pwsh"
    },
    "polyglot_notebook": {
     "kernelName": "pwsh"
    }
   },
   "outputs": [
    {
     "name": "stdout",
     "output_type": "stream",
     "text": [
      "\n",
      "\u001b[32;1m NPM(K)    PM(M)      WS(M)     CPU(s)      Id  SI ProcessName\u001b[0m\n",
      "\u001b[32;1m ------    -----      -----     ------      --  -- -----------\u001b[0m\n",
      "    116   359.45     504.31     127.72    8864   2 msedge\n",
      "    172   261.33     374.88       9.48   12828   2 dotnet\n",
      "     34   267.03     357.70      54.62    8040   2 msedge\n",
      "     45   212.78     320.12      16.95    2780   2 Code\n",
      "     63    42.51     313.63       0.00    2276   2 dwm\n",
      "      0     0.98     265.13       0.00    2744   0 Memory Compression\n",
      "     72    21.41     253.89       6.88   13792   2 Code\n",
      "    134   165.14     246.24       3.97    7748   2 SearchHost\n",
      "     44   221.73     245.13       0.00    1400   0 svchost\n",
      "    205   172.39     244.79      48.02    5228   2 Grammarly.Desktop\n",
      "\n"
     ]
    },
    {
     "data": {
      "text/plain": []
     },
     "metadata": {},
     "output_type": "display_data"
    }
   ],
   "source": [
    "Get-Process|Sort WS -Descending|select -First 10"
   ]
  }
 ],
 "metadata": {
  "kernelspec": {
   "display_name": ".NET (PowerShell)",
   "language": "PowerShell",
   "name": ".net-pwsh"
  },
  "language_info": {
   "name": "polyglot-notebook"
  },
  "polyglot_notebook": {
   "kernelInfo": {
    "defaultKernelName": "pwsh",
    "items": [
     {
      "aliases": [],
      "languageName": "pwsh",
      "name": "pwsh"
     }
    ]
   }
  }
 },
 "nbformat": 4,
 "nbformat_minor": 2
}
