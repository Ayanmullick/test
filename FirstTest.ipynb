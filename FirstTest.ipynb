{
 "cells": [
  {
   "cell_type": "markdown",
   "metadata": {},
   "source": [
    "### Gets the processes consuming the most CPU"
   ]
  },
  {
   "cell_type": "code",
   "execution_count": 1,
   "metadata": {
    "dotnet_interactive": {
     "language": "pwsh"
    },
    "polyglot_notebook": {
     "kernelName": "pwsh"
    }
   },
   "outputs": [
    {
     "data": {
      "text/plain": []
     },
     "metadata": {},
     "output_type": "display_data"
    },
    {
     "name": "stdout",
     "output_type": "stream",
     "text": [
      "\n",
      "\u001b[32;1m NPM(K)    PM(M)      WS(M)     CPU(s)      Id  SI ProcessName\u001b[0m\n",
      "\u001b[32;1m ------    -----      -----     ------      --  -- -----------\u001b[0m\n",
      "     84   189.09     308.96      76.41   12176   2 msedge\n",
      "     45    57.74     107.38      48.81   12444   2 Taskmgr\n",
      "    487   111.29     244.58      38.33    9792   2 explorer\n",
      "    218   196.11     238.97      27.98   20088   2 Grammarly.Desktop\n",
      "     63   136.79     189.99      25.91    8608   2 OneDrive\n",
      "    118   189.50     213.83      20.42   13772   2 PowerToys.PowerLauncher\n",
      "     19    30.66      65.02      12.58   19324   2 msedge\n",
      "     62   120.62      57.05      12.02    6652   2 msedge\n",
      "     18    20.59      20.98       9.83   10000   0 audiodg\n",
      "     27   122.82     139.05       9.55   18528   2 msedge\n",
      "\n"
     ]
    }
   ],
   "source": [
    "Get-Process|sort CPU -descending|select -First 10"
   ]
  }
 ],
 "metadata": {
  "kernelspec": {
   "display_name": ".NET (C#)",
   "language": "C#",
   "name": ".net-csharp"
  },
  "language_info": {
   "name": "polyglot-notebook"
  },
  "polyglot_notebook": {
   "kernelInfo": {
    "defaultKernelName": "csharp",
    "items": [
     {
      "aliases": [],
      "name": "csharp"
     }
    ]
   }
  }
 },
 "nbformat": 4,
 "nbformat_minor": 2
}
